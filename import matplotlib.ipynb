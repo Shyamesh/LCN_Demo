 import matplotlib.pyplot as plt
import numpy as np

# Data from the table
ips = ["192.168.5.252", "192.168.5.251", "192.168.5.249"]
total_packets = [115145, 44317, 891584]
port_packets = {
    "192.168.5.252": [115132, 13],
    "192.168.5.251": [44302, 15],
    "192.168.5.249": [661914, 229670]
}
burst_rates = [1.6200, 1.4700, 9.8400]

# Plot Total Packets per IP Address
fig, ax = plt.subplots(3, 1, figsize=(10, 18))

ax[0].bar(ips, total_packets, color=['blue', 'orange', 'green'])
ax[0].set_title('Total Packets per IP Address')
ax[0].set_ylabel('Total Packets')
ax[0].set_xlabel('IP Address')

# Stacked Bar Plot for Ports within each IP Address
port_labels = ["Port 1", "Port 2"]
port_data = np.array([port_packets[ip] for ip in ips]).T

ax[1].bar(ips, port_data[0], label=port_labels[0])
ax[1].bar(ips, port_data[1], bottom=port_data[0], label=port_labels[1])
ax[1].set_title('Port Traffic Distribution per IP Address')
ax[1].set_ylabel('Packets')
ax[1].set_xlabel('IP Address')
ax[1].legend()

# Line Plot for Burst Rates
ax[2].plot(ips, burst_rates, marker='o', linestyle='-')
ax[2].set_title('Burst Rates per IP Address')
ax[2].set_ylabel('Burst Rate')
ax[2].set_xlabel('IP Address')

plt.tight_layout()
plt.show()
